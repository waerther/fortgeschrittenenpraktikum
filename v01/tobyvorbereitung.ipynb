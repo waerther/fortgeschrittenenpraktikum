{
 "cells": [
  {
   "attachments": {},
   "cell_type": "markdown",
   "metadata": {},
   "source": [
    "1. Was sind Myonen? Welche Eigenschaften haben sie? Woher stammen kosmische Myonen? In welcher Höhe entsehen sie; wie zerfallen sie?"
   ]
  },
  {
   "attachments": {},
   "cell_type": "markdown",
   "metadata": {},
   "source": [
    "Myonen sind Elementarteilchen (Lepton, 200 mal schwerer als Elektron).\n",
    "\n",
    "Myonen in der Atmosphäre entstehen als Teil eines kosmsichen Teilchenschauers. Ausgelöst werden diese dabei durch Hadronenschauer, maßgeblich durch Protonen. Bei diesen Schauern entstehen Pionen, die dann wiederum in Myonen zerfallen:\n",
    "$$\n",
    "\\pi^+\\rightarrow \\mu^+ + \\nu_\\mu \\\\\n",
    "\\pi^-\\rightarrow \\mu^- + \\bar{\\nu}_\\mu\n",
    "$$\n",
    "\n",
    "Statistisch gesehen passiert dies etwa in einer Höhe von 10 - 15 km Höhe.\n",
    "Zerfallen tun sie (hauptsächlich) über den folgenden Kanal:\n",
    "$$\n",
    "\\mu^- \\rightarrow e^- + \\bar{\\nu}_e + \\nu_\\mu    \\\\\n",
    "$$"
   ]
  },
  {
   "attachments": {},
   "cell_type": "markdown",
   "metadata": {},
   "source": [
    "2. Was definiert die Lebensdauer und aus welchem Zusammenhang lässt sie sich herleiten?"
   ]
  },
  {
   "attachments": {},
   "cell_type": "markdown",
   "metadata": {},
   "source": [
    "Die Lebensdauer ist folgendermaßen definiert:\n",
    "$$\n",
    "\\tau = \\frac{1}{\\lambda}\n",
    "$$\n",
    "Dabei ist $\\lambda$ die Zerfallskonstante.\n",
    "Herleiten lässt sich dieser Zusammenhang aus dem allgemeinen Zerfallsgesetz:\n",
    "$$\n",
    "N(t)= N_0 \\cdot e^{- \\lambda \\cdot t}\n",
    "$$\n",
    "\n",
    "Ein Myon hat eine Lebensdauer von circa $2.2 \\mu s$"
   ]
  },
  {
   "attachments": {},
   "cell_type": "markdown",
   "metadata": {},
   "source": [
    "3. Berechnen Sie klassisch und relativistisch aus der Sicht eines auf der Erde ruhenden Beobachters die Reichweite eines kosmischen Myons (Eµ = 10 GeV)."
   ]
  },
  {
   "attachments": {},
   "cell_type": "markdown",
   "metadata": {},
   "source": [
    "Klassisch:\n",
    "$$\n",
    "v = \\sqrt{\\frac{2 \\cdot E}{m}} \\\\\n",
    "\\text{Wird eingesetzt in} \\\\\n",
    "s = v \\cdot t = \\sqrt{\\frac{2 \\cdot E}{m}} \\cdot t > c \\\\\n",
    "\\text{mit der Lebenszeit und Energie} \\\\\n",
    "s = 9282.32 m\n",
    "$$\n",
    "Abgesehen davon, dass v>c (da nicht relativistisch betrachtet), ist die zurückgelegte Distanz geringer als 10 km. Dies widerspricht der Beobachtung (Großteil der Myonen erreichen den Erdboden).\n",
    "Betrachtet man allerdings das Myon mit Längenkontraktion, ergibt sich eine Strecke von\n",
    "\n",
    "\n",
    "tbd"
   ]
  },
  {
   "attachments": {},
   "cell_type": "markdown",
   "metadata": {},
   "source": [
    "4. Welche Ereignisrate erwarten Sie auf der Erdoberfläche? Den Szintillatortank können Sie als liegenden Zylinder mit h = 2r und V = 50 l nähern.\n",
    "\n"
   ]
  },
  {
   "attachments": {},
   "cell_type": "markdown",
   "metadata": {},
   "source": [
    "5. Was ist ein Szintillator und welche Arten gibt es? In welchen Eigenschaften unterscheiden sie sich und welche Vor- und Nachteile ergeben sich daraus für diesen Versuch?\n",
    "\n",
    "Szintillatoren geben ein Signal durch ein Photon ab, wenn ein Teilchen in das Szintillatormaterial eindringt.\n",
    "Dabei gibt es verschiedene Typen von Szintillatoren, nämlich organische und anorganische.\n",
    "Diese unterscheiden sich in ihrer Funktionsweise, aber auch in ihren entsprechenden Anwendungszwecken.\n",
    "Die organischen Materialien funktionieren darüber, dass die Moleküle innerhalb des Materials durch die eingedrungenen Teilchen angeregt werden und bei Rückkehr in den Grundzustand ein Photon emittieren.\n",
    "Aufgrund der kurzen Verweildauer innerhalb des angeregten Zustandes, sind diese Materialien vor allem für Messungen geeignet, wo eine hohe Zeitauflösung nötig ist.\n",
    "Allerdings ist die Energiebestimmung nicht so präzise, da viele verschiedene Schwingungsmoden im angeregten Zustand möglich sind.\n",
    "Die anorganischen Szintillatoren sind für die Energiemessung besser geeignet.\n",
    "Dies liegt an der Art, wie hier die Messung funktioniert.\n",
    "Bei Anregung wird das Material ionisiert.\n",
    "Das Elektron kann nun durch ein Photon gemessen werden, nachdem es sich zu einem Aktivatorzentrum hinbewegt hat.\n",
    "Dies geschieht (verhältnismäßig) langsam, wodurch eine verschlechterte Zeitauflösung vorhanden ist.\n",
    "Die Energierauflösung ist aufgrund der diskreten Ionisationsenergien besser als bei den organischen.\n",
    "\n",
    "Für diesen Versuch ist also der organische Szintillator relevant (Zeitauflösung).\n"
   ]
  },
  {
   "attachments": {},
   "cell_type": "markdown",
   "metadata": {},
   "source": [
    "6. Welche Maßnahmen zur Rauschunterdrückung werden vorgenommen? Schätzen Sie die verbleibende Untergrundrate U ab. Nehmen Sie dazu an, dass die Wahrscheinlichkeit, dass ein weiteres Myon während der Suchzeit Ts eintritt und damit ein Stoppsignal auslöst, poissonverteilt ist.\n",
    "\n",
    "tbd"
   ]
  },
  {
   "attachments": {},
   "cell_type": "markdown",
   "metadata": {},
   "source": [
    "7. Wie funktioniert ein Vielkanalanalysator und welche Größen werden in diesem Versuch im Spektrum gegeneinander aufgetragen? Formulieren Sie eine Erwartungshaltung, wie das entstehende Spektrum aussieht.\n",
    "\n",
    "Ein Vielkanalanalysator nimmt die Eingangssignale und sortiert sie in Anbetracht ihrer Amplitudengröße. Dies geschieht durch das sortieren in Amplitudenkanälen, also in einem Histogramm.\n",
    "\n",
    "tbd"
   ]
  },
  {
   "attachments": {},
   "cell_type": "markdown",
   "metadata": {},
   "source": [
    "8. Nach welcher Methode wird die Lebensdauer kosmischer Myonen im Rahmen dieses Versuches bestimmt? Wie ist das grundlegende Messprinzip schaltungstechnisch verwirklicht; welche Aufgaben übernehmen dabei die einzelnen Bauteile? Machen Sie sich auch mit der Darstellung logischer Bauteile in Schaltplänen vertraut.\n",
    "\n"
   ]
  }
 ],
 "metadata": {
  "language_info": {
   "name": "python"
  },
  "orig_nbformat": 4
 },
 "nbformat": 4,
 "nbformat_minor": 2
}
