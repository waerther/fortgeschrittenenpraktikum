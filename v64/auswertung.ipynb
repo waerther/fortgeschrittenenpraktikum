{
 "cells": [
  {
   "cell_type": "code",
   "execution_count": 1,
   "metadata": {},
   "outputs": [],
   "source": [
    "import matplotlib.pyplot as plt\n",
    "import matplotlib as mpl\n",
    "import numpy as np\n",
    "from numpy import sqrt\n",
    "import pandas as pd\n",
    "import scipy.constants as const\n",
    "from scipy.optimize import curve_fit                        # Funktionsfit:     popt, pcov = curve_fit(func, xdata, ydata) \n",
    "from uncertainties import ufloat                            # Fehler:           fehlerwert =  ulfaot(x, err)\n",
    "from uncertainties import unumpy as unp \n",
    "from uncertainties.unumpy import uarray                     # Array von Fehler: fehlerarray =  uarray(array, errarray)\n",
    "from uncertainties.unumpy import (nominal_values as noms,   # Wert:             noms(fehlerwert) = x\n",
    "                                  std_devs as stds)         # Abweichung:       stds(fehlerarray) = errarray\n",
    "import os"
   ]
  },
  {
   "attachments": {},
   "cell_type": "markdown",
   "metadata": {},
   "source": [
    "Kontrast berechnen"
   ]
  },
  {
   "cell_type": "code",
   "execution_count": 2,
   "metadata": {},
   "outputs": [],
   "source": [
    "md = pd.read_csv('tables/kontrast.csv')\n",
    "md = md.to_numpy()\n",
    "winkel = md[:,0]\n",
    "U_max = md[:,1]\n",
    "U_min = md[:,2]\n",
    "\n",
    "K = (U_max - U_min) / (U_max + U_min)\n",
    "K = np.round(K,3)\n",
    "mdK = np.c_[md,K]\n",
    "hea = list(['Winkel in °', 'U_{max}', 'U_{min}', 'Kontrast'])\n",
    "pandas_mdK = pd.DataFrame(mdK, columns=['Winkel', 'Umax', 'Umin', 'Kontrast'])"
   ]
  },
  {
   "cell_type": "code",
   "execution_count": 3,
   "metadata": {},
   "outputs": [
    {
     "name": "stdout",
     "output_type": "stream",
     "text": [
      "Parameter:  [0.08778599 0.79556007] \n",
      "Fehler:  [0.03828754 0.00853422]\n",
      "1.1519173063162575\n",
      "Maximum liegt bei K = 0.7955445415407814 bei einem Winkel von 47.69387755102041\n"
     ]
    },
    {
     "data": {
      "image/png": "[encoded data removed]",
      "text/plain": [
       "<Figure size 432x288 with 1 Axes>"
      ]
     },
     "metadata": {
      "needs_background": "light"
     },
     "output_type": "display_data"
    }
   ],
   "source": [
    "md = pd.read_csv('tables/kontrast.csv')\n",
    "md = md.to_numpy()\n",
    "\n",
    "def fit(winkel,delta, A):\n",
    "    return A * np.abs(np.sin(2 * winkel - delta))\n",
    "winkel = md[:,0]\n",
    "winkel = winkel * np.pi / 180\n",
    "params, cov = curve_fit(fit, winkel, K)\n",
    "print('Parameter: ', params, '\\nFehler: ', np.sqrt(np.diag(cov)))\n",
    "x = np.linspace(winkel[0] * 0.9, winkel[-1] *1.1)\n",
    "\n",
    "print(winkel[-1] *1.1)\n",
    "plt.plot(winkel, K, 'r+', label=\"Daten\")\n",
    "plt.scatter(x[fit(x, *params).argmax()], fit(x, *params).max(), c='g', zorder=3)\n",
    "plt.plot(x, fit(x, *params), 'b', label=\"Regression\")\n",
    "plt.ylabel('Kontrast')\n",
    "plt.xlim(x[0], x[-1])\n",
    "plt.ylim(0, 1)\n",
    "plt.tight_layout()\n",
    "plt.legend(loc=\"best\")\n",
    "\n",
    "print('Maximum liegt bei K = ' + str(fit(x, *params).max()) + ' bei einem Winkel von ' + str(x[fit(x, *params).argmax()] * 180 / np.pi))"
   ]
  },
  {
   "attachments": {},
   "cell_type": "markdown",
   "metadata": {},
   "source": [
    "Bereche $n_{Luft}$"
   ]
  },
  {
   "cell_type": "code",
   "execution_count": 4,
   "metadata": {},
   "outputs": [
    {
     "name": "stdout",
     "output_type": "stream",
     "text": [
      "Parameter:  [-0.68453446 43.03963481] \n",
      "Fehler:  [0.17064271 0.31223316]\n",
      "n = 1.0001338+/-0.0000011\n"
     ]
    },
    {
     "data": {
      "image/png": "[encoded data removed]",
      "text/plain": [
       "<Figure size 432x288 with 1 Axes>"
      ]
     },
     "metadata": {
      "needs_background": "light"
     },
     "output_type": "display_data"
    }
   ],
   "source": [
    "md = pd.read_csv('tables/n_luft.csv')\n",
    "md = md.to_numpy()\n",
    "T = const.convert_temperature(21.5, 'Celsius', 'Kelvin')\n",
    "\n",
    "def func(p, a, m):\n",
    "    return a + p * m\n",
    "\n",
    "\n",
    "p = md[:,0]\n",
    "maxima1 = md[:,1]; maxima2  = md[:,2]; maxima3 = md[:,3]\n",
    "p_c = np.concatenate((p[:-1],p,p),axis=None)\n",
    "max_c = np.concatenate((maxima1[:-1],maxima2,maxima3),axis=None)\n",
    "params, cov = curve_fit(func, p_c, max_c)\n",
    "print('Parameter: ', params, '\\nFehler: ', np.sqrt(np.diag(cov)))\n",
    "plt.plot(p_c, max_c, 'r+', label=\"Daten\")\n",
    "plt.plot(p, func(p, *params), 'b', label=\"Regression\")\n",
    "plt.ylabel('Kontrast')\n",
    "plt.tight_layout()\n",
    "plt.grid(':')\n",
    "plt.legend(loc=\"best\")\n",
    "\n",
    "a = ufloat(params[0], np.sqrt(np.diag(cov))[0])\n",
    "m = ufloat(params[1], np.sqrt(np.diag(cov))[1])\n",
    "M = func(0.95, a,m)\n",
    "\n",
    "print('n = ' + str( M * 332.8 * 10**-8 + 1))"
   ]
  }
 ],
 "metadata": {
  "kernelspec": {
   "display_name": "Python 3",
   "language": "python",
   "name": "python3"
  },
  "language_info": {
   "codemirror_mode": {
    "name": "ipython",
    "version": 3
   },
   "file_extension": ".py",
   "mimetype": "text/x-python",
   "name": "python",
   "nbconvert_exporter": "python",
   "pygments_lexer": "ipython3",
   "version": "3.8.8"
  },
  "orig_nbformat": 4
 },
 "nbformat": 4,
 "nbformat_minor": 2
}
