{
 "cells": [
  {
   "cell_type": "code",
   "execution_count": 1,
   "metadata": {},
   "outputs": [],
   "source": [
    "import matplotlib.pyplot as plt\n",
    "import matplotlib as mpl\n",
    "import numpy as np\n",
    "from numpy import sqrt\n",
    "import pandas as pd\n",
    "import scipy.constants as const\n",
    "from scipy.optimize import curve_fit                        # Funktionsfit:     popt, pcov = curve_fit(func, xdata, ydata) \n",
    "from uncertainties import ufloat                            # Fehler:           fehlerwert =  ulfaot(x, err)\n",
    "from uncertainties import unumpy as unp \n",
    "from uncertainties.unumpy import uarray                     # Array von Fehler: fehlerarray =  uarray(array, errarray)\n",
    "from uncertainties.unumpy import (nominal_values as noms,   # Wert:             noms(fehlerwert) = x\n",
    "                                  std_devs as stds)         # Abweichung:       stds(fehlerarray) = errarray\n",
    "import os"
   ]
  },
  {
   "attachments": {},
   "cell_type": "markdown",
   "metadata": {},
   "source": [
    "Kontrast berechnen"
   ]
  },
  {
   "cell_type": "code",
   "execution_count": 2,
   "metadata": {},
   "outputs": [],
   "source": [
    "md = pd.read_csv('tables/kontrast.csv')\n",
    "md = md.to_numpy()\n",
    "winkel = md[:,0]\n",
    "U_max = md[:,1]\n",
    "U_min = md[:,2]\n",
    "\n",
    "K = (U_max - U_min) / (U_max + U_min)\n",
    "K = np.round(K,3)\n",
    "mdK = np.c_[md,K]\n",
    "hea = list(['Winkel in °', 'U_{max}', 'U_{min}', 'Kontrast'])\n",
    "pandas_mdK = pd.DataFrame(mdK, columns=['Winkel', 'Umax', 'Umin', 'Kontrast'])"
   ]
  },
  {
   "cell_type": "code",
   "execution_count": 48,
   "metadata": {},
   "outputs": [
    {
     "name": "stdout",
     "output_type": "stream",
     "text": [
      "Parameter:  [0.08778599 0.79556007] \n",
      "Fehler:  [0.03828754 0.00853422]\n",
      "1.1519173063162575\n",
      "Maximum liegt bei K = 0.7955445415407814 bei einem Winkel von 47.69387755102041\n"
     ]
    },
    {
     "data": {
      "image/png": "[encoded data removed]",
      "text/plain": [
       "<Figure size 640x480 with 1 Axes>"
      ]
     },
     "metadata": {},
     "output_type": "display_data"
    }
   ],
   "source": [
    "md = pd.read_csv('tables/kontrast.csv')\n",
    "md = md.to_numpy()\n",
    "\n",
    "def fit(winkel,delta, A):\n",
    "    return A * np.abs(np.sin(2 * winkel - delta))\n",
    "winkel = md[:,0]\n",
    "winkel = winkel * np.pi / 180\n",
    "params, cov = curve_fit(fit, winkel, K)\n",
    "print('Parameter: ', params, '\\nFehler: ', np.sqrt(np.diag(cov)))\n",
    "x = np.linspace(winkel[0] * 0.9, winkel[-1] *1.1)\n",
    "\n",
    "print(winkel[-1] *1.1)\n",
    "plt.plot(winkel, K, 'r+', label=\"Daten\")\n",
    "plt.scatter(x[fit(x, *params).argmax()], fit(x, *params).max(), c='g', zorder=3)\n",
    "plt.plot(x, fit(x, *params), 'b', label=\"Regression\")\n",
    "plt.ylabel('Kontrast')\n",
    "plt.xlim(x[0], x[-1])\n",
    "plt.ylim(0, 1)\n",
    "plt.tight_layout()\n",
    "plt.legend(loc=\"best\")\n",
    "\n",
    "print('Maximum liegt bei K = ' + str(fit(x, *params).max()) + ' bei einem Winkel von ' + str(x[fit(x, *params).argmax()] * 180 / np.pi))\n",
    "# plt.clf()"
   ]
  },
  {
   "attachments": {},
   "cell_type": "markdown",
   "metadata": {},
   "source": [
    "Bereche $n_{Luft}$"
   ]
  },
  {
   "cell_type": "code",
   "execution_count": 59,
   "metadata": {},
   "outputs": [
    {
     "name": "stdout",
     "output_type": "stream",
     "text": [
      "294.65\n"
     ]
    },
    {
     "ename": "AttributeError",
     "evalue": "'numpy.ndarray' object has no attribute 'to_latex'",
     "output_type": "error",
     "traceback": [
      "\u001b[0;31m---------------------------------------------------------------------------\u001b[0m",
      "\u001b[0;31mAttributeError\u001b[0m                            Traceback (most recent call last)",
      "\u001b[0;32m/tmp/ipykernel_6365/2040175287.py\u001b[0m in \u001b[0;36m<module>\u001b[0;34m\u001b[0m\n\u001b[1;32m     10\u001b[0m \u001b[0;34m\u001b[0m\u001b[0m\n\u001b[1;32m     11\u001b[0m \u001b[0mhea\u001b[0m \u001b[0;34m=\u001b[0m \u001b[0mlist\u001b[0m\u001b[0;34m(\u001b[0m\u001b[0;34m[\u001b[0m\u001b[0;34m'Maxima'\u001b[0m\u001b[0;34m,\u001b[0m \u001b[0;34m'Versuch 1'\u001b[0m\u001b[0;34m,\u001b[0m \u001b[0;34m'Versuch 2'\u001b[0m\u001b[0;34m,\u001b[0m \u001b[0;34m'Versuch 3'\u001b[0m\u001b[0;34m]\u001b[0m\u001b[0;34m)\u001b[0m\u001b[0;34m\u001b[0m\u001b[0;34m\u001b[0m\u001b[0m\n\u001b[0;32m---> 12\u001b[0;31m \u001b[0mmd\u001b[0m \u001b[0;34m=\u001b[0m \u001b[0mmd\u001b[0m\u001b[0;34m.\u001b[0m\u001b[0mto_latex\u001b[0m\u001b[0;34m(\u001b[0m\u001b[0mindex\u001b[0m \u001b[0;34m=\u001b[0m \u001b[0;32mFalse\u001b[0m\u001b[0;34m,\u001b[0m \u001b[0mcolumn_format\u001b[0m\u001b[0;34m=\u001b[0m \u001b[0;34m\"c c c c\"\u001b[0m\u001b[0;34m,\u001b[0m \u001b[0mdecimal\u001b[0m\u001b[0;34m=\u001b[0m\u001b[0;34m','\u001b[0m\u001b[0;34m,\u001b[0m \u001b[0mheader\u001b[0m\u001b[0;34m=\u001b[0m\u001b[0mhea\u001b[0m\u001b[0;34m,\u001b[0m \u001b[0mlabel\u001b[0m\u001b[0;34m=\u001b[0m\u001b[0;34m'tab:luft'\u001b[0m\u001b[0;34m,\u001b[0m \u001b[0mcaption\u001b[0m\u001b[0;34m=\u001b[0m\u001b[0;34m\"Messwerte zum Brechungsindex von Luft\"\u001b[0m\u001b[0;34m)\u001b[0m\u001b[0;34m\u001b[0m\u001b[0;34m\u001b[0m\u001b[0m\n\u001b[0m",
      "\u001b[0;31mAttributeError\u001b[0m: 'numpy.ndarray' object has no attribute 'to_latex'"
     ]
    }
   ],
   "source": [
    "md = pd.read_csv('tables/n_luft.csv')\n",
    "md = md.to_numpy()\n",
    "T = const.convert_temperature(21.5, 'Celsius', 'Kelvin')\n",
    "print(T)\n",
    "\n",
    "def func(p, max):\n",
    "    n = 1 - (1 - )\n",
    "    return n\n",
    "\n",
    "\n",
    "hea = list(['Maxima', 'Versuch 1', 'Versuch 2', 'Versuch 3'])\n",
    "md = md.to_latex(index = False, column_format= \"c c c c\", decimal=',', header=hea, label='tab:luft', caption=\"Messwerte zum Brechungsindex von Luft\")\n"
   ]
  }
 ],
 "metadata": {
  "kernelspec": {
   "display_name": "Python 3",
   "language": "python",
   "name": "python3"
  },
  "language_info": {
   "codemirror_mode": {
    "name": "ipython",
    "version": 3
   },
   "file_extension": ".py",
   "mimetype": "text/x-python",
   "name": "python",
   "nbconvert_exporter": "python",
   "pygments_lexer": "ipython3",
   "version": "3.8.8"
  },
  "orig_nbformat": 4
 },
 "nbformat": 4,
 "nbformat_minor": 2
}
