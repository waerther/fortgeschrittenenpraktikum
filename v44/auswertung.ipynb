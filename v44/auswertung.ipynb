{
 "cells": [
  {
   "cell_type": "code",
   "execution_count": 1,
   "metadata": {},
   "outputs": [],
   "source": [
    "import matplotlib.pyplot as plt\n",
    "import matplotlib as mpl\n",
    "import numpy as np\n",
    "from numpy import sqrt\n",
    "import pandas as pd\n",
    "import scipy.constants as const\n",
    "from scipy.signal import find_peaks, peak_widths\n",
    "from scipy.optimize import curve_fit                        # Funktionsfit:     popt, pcov = curve_fit(func, xdata, ydata) \n",
    "from uncertainties import ufloat                            # Fehler:           fehlerwert =  ulfaot(x, err)\n",
    "from uncertainties import unumpy as unp \n",
    "from uncertainties.unumpy import uarray                     # Array von Fehler: fehlerarray =  uarray(array, errarray)\n",
    "from uncertainties.unumpy import (nominal_values as noms,   # Wert:             noms(fehlerwert) = x\n",
    "                                  std_devs as stds)         # Abweichung:       stds(fehlerarray) = errarray"
   ]
  },
  {
   "attachments": {},
   "cell_type": "markdown",
   "metadata": {},
   "source": [
    "Tabelle erstellen:"
   ]
  },
  {
   "cell_type": "code",
   "execution_count": 2,
   "metadata": {},
   "outputs": [
    {
     "name": "stdout",
     "output_type": "stream",
     "text": [
      "\\begin{tabular}{c c}\n",
      "\\toprule\n",
      " theta &      I \\\\\n",
      "\\midrule\n",
      " -0,30 &   1836 \\\\\n",
      " -0,29 &   2122 \\\\\n",
      " -0,28 &   2236 \\\\\n",
      " -0,27 &   2418 \\\\\n",
      " -0,26 &   2579 \\\\\n",
      " -0,25 &   2644 \\\\\n",
      " -0,24 &   3160 \\\\\n",
      " -0,23 &   3646 \\\\\n",
      " -0,22 &   4368 \\\\\n",
      " -0,21 &   4898 \\\\\n",
      " -0,20 &   5479 \\\\\n",
      " -0,19 &   6142 \\\\\n",
      " -0,18 &   6781 \\\\\n",
      " -0,17 &   7939 \\\\\n",
      " -0,16 &   9296 \\\\\n",
      " -0,15 &  11164 \\\\\n",
      " -0,14 &  13036 \\\\\n",
      " -0,13 &  15916 \\\\\n",
      " -0,12 &  20495 \\\\\n",
      " -0,11 &  26592 \\\\\n",
      " -0,10 &  34614 \\\\\n",
      " -0,09 &  45569 \\\\\n",
      " -0,08 &  60869 \\\\\n",
      " -0,07 &  92128 \\\\\n",
      " -0,06 & 141444 \\\\\n",
      " -0,05 & 198646 \\\\\n",
      " -0,04 & 249182 \\\\\n",
      " -0,03 & 318370 \\\\\n",
      " -0,02 & 392259 \\\\\n",
      " -0,01 & 456486 \\\\\n",
      "  0,00 & 506208 \\\\\n",
      "  0,01 & 505924 \\\\\n",
      "  0,02 & 445386 \\\\\n",
      "  0,03 & 351661 \\\\\n",
      "  0,04 & 252666 \\\\\n",
      "  0,05 & 175980 \\\\\n",
      "  0,06 & 124592 \\\\\n",
      "  0,07 &  98877 \\\\\n",
      "  0,08 &  69837 \\\\\n",
      "  0,09 &  52169 \\\\\n",
      "  0,10 &  36003 \\\\\n",
      "  0,11 &  27611 \\\\\n",
      "  0,12 &  22698 \\\\\n",
      "  0,13 &  19287 \\\\\n",
      "  0,14 &  17893 \\\\\n",
      "  0,15 &  13613 \\\\\n",
      "  0,16 &  11112 \\\\\n",
      "  0,17 &   8819 \\\\\n",
      "  0,18 &   6282 \\\\\n",
      "  0,19 &   5170 \\\\\n",
      "  0,20 &   4288 \\\\\n",
      "  0,21 &   3740 \\\\\n",
      "  0,22 &   3374 \\\\\n",
      "  0,23 &   2970 \\\\\n",
      "  0,24 &   2524 \\\\\n",
      "  0,25 &   2225 \\\\\n",
      "  0,26 &   1970 \\\\\n",
      "  0,27 &   1773 \\\\\n",
      "  0,28 &   1670 \\\\\n",
      "  0,29 &   1542 \\\\\n",
      "  0,30 &   1348 \\\\\n",
      "\\bottomrule\n",
      "\\end{tabular}\n",
      "\n"
     ]
    }
   ],
   "source": [
    "dscan = pd.read_csv('tables/detektorscan.txt', delim_whitespace= \"\\t\")\n",
    "# print(dscan)\n",
    "print(dscan.to_latex(index = False, column_format= \"c c\", decimal=',')) "
   ]
  },
  {
   "attachments": {},
   "cell_type": "markdown",
   "metadata": {},
   "source": [
    "Daten auswerten:"
   ]
  },
  {
   "cell_type": "code",
   "execution_count": 6,
   "metadata": {},
   "outputs": [
    {
     "name": "stdout",
     "output_type": "stream",
     "text": [
      "[-0.03614097  0.00107415  0.08579305  0.01873827]\n",
      "(4.34+/-0.06)e+04 (9.5+/-1.9)e+03 -0.0361+/-0.0005 0.0011+/-0.0005\n",
      "[5013]\n",
      "[4481.06936103] [5544.78163454]\n",
      "[-0.0424441] [0.04243221]\n",
      "[0.0848763]\n",
      "[488878.09151147]\n"
     ]
    },
    {
     "data": {
      "text/plain": [
       "(-0.32, 0.32)"
      ]
     },
     "execution_count": 6,
     "metadata": {},
     "output_type": "execute_result"
    },
    {
     "data": {
      "image/png": "[encoded data removed]",
      "text/plain": [
       "<Figure size 432x288 with 1 Axes>"
      ]
     },
     "metadata": {
      "needs_background": "light"
     },
     "output_type": "display_data"
    }
   ],
   "source": [
    "theta, I = np.genfromtxt('tables/detektorscan.txt', unpack=True, skip_header=1)\n",
    "Imax = np.amax(I)\n",
    "Inorm = I/Imax\n",
    "\n",
    "# plt.figure(figsize=(14, 10))              # Größe des Plots\n",
    "\n",
    "plt.plot(theta, I, 'xr', markersize=6 , label = 'Messdaten', alpha=0.5)\n",
    "\n",
    "n = len(theta)                              #the number of data\n",
    "mean = sum(theta*Inorm)/n                       #note this correction\n",
    "sigma0 = np.sqrt(sum(Inorm*(theta - mean)**2))\n",
    "\n",
    "# Ausgleichsrechung nach Gaußverteilung\n",
    "def g(theta, sigma, mu, a, b):\n",
    "    # return (a/np.sqrt(2 * np.pi * sigma**2)) * np.exp(-(theta-mu)**2/(2* sigma**2)) + b \n",
    "    return a * np.exp(-(theta-mu)**2/(2* sigma**2)) + b \n",
    "\n",
    "para, pcov = curve_fit(g, theta, Inorm)#, p0=[sigma0,mean,1,1])\n",
    "sigma, mu, a, b = para\n",
    "pcov = np.sqrt(np.diag(pcov))\n",
    "fsigma, fmu, fa, fb = pcov\n",
    "usigma = ufloat(sigma, fsigma)\n",
    "umu = ufloat(mu, fmu)\n",
    "ua = ufloat(a, fa) \n",
    "ub = ufloat(b, fb)\n",
    "\n",
    "print(para)\n",
    "print(ua*Imax, ub*Imax, usigma, umu)\n",
    "\n",
    "xx = np.linspace(-0.4, 0.4, 10**4)\n",
    "plt.plot(xx, g(xx, *para)*Imax, '-b', linewidth = 1, label = 'Ausgleichsfunktion', alpha=0.5)\n",
    "\n",
    "gauss = g(xx, *para)*Imax\n",
    "peak, _ = find_peaks(gauss)\n",
    "print(peak)\n",
    "\n",
    "results_half = peak_widths(gauss, peak, rel_height=0.5)\n",
    "w, h, l, r = results_half\n",
    "print(l, r)\n",
    "s = 0.4\n",
    "l = s * l/(peak) -s\n",
    "r = s * r/(peak) -s\n",
    "print(l, r)\n",
    "print(r-l)\n",
    "print(gauss[peak])\n",
    "plt.plot(0, gauss[peak], \"gx\", label = '$I_{max}$')\n",
    "plt.hlines(h, l, r, color=\"C2\", label='FWHM')\n",
    "\n",
    "plt.xlabel(r'$\\theta \\, / \\, \\mathrm{°}$')\n",
    "plt.ylabel(r'$I \\, / \\,$ # $\\, / \\mathrm{s}$')\n",
    "plt.legend(loc=\"best\")                  # legend position\n",
    "plt.grid(True)                          # grid style\n",
    "plt.xlim(-0.32, 0.32)\n",
    "# plt.ylim(-0.05, 1.05)"
   ]
  },
  {
   "attachments": {},
   "cell_type": "markdown",
   "metadata": {},
   "source": [
    "Fehler berechnen:"
   ]
  },
  {
   "cell_type": "code",
   "execution_count": null,
   "metadata": {},
   "outputs": [
    {
     "name": "stdout",
     "output_type": "stream",
     "text": [
      "T = (0.086 ± 0.001)\n"
     ]
    }
   ],
   "source": [
    "ua = ufloat(a, fa) \n",
    "print('T = (%.3f ± %.3f)' % (noms(ua), stds(ua)))"
   ]
  },
  {
   "attachments": {},
   "cell_type": "markdown",
   "metadata": {},
   "source": [
    "Plot erstellen:"
   ]
  },
  {
   "cell_type": "code",
   "execution_count": null,
   "metadata": {},
   "outputs": [
    {
     "ename": "NameError",
     "evalue": "name 'f' is not defined",
     "output_type": "error",
     "traceback": [
      "\u001b[0;31m---------------------------------------------------------------------------\u001b[0m",
      "\u001b[0;31mNameError\u001b[0m                                 Traceback (most recent call last)",
      "\u001b[0;32m/tmp/ipykernel_333/1804346841.py\u001b[0m in \u001b[0;36m<module>\u001b[0;34m\u001b[0m\n\u001b[0;32m----> 1\u001b[0;31m \u001b[0mplt\u001b[0m\u001b[0;34m.\u001b[0m\u001b[0mplot\u001b[0m\u001b[0;34m(\u001b[0m\u001b[0mf\u001b[0m\u001b[0;34m,\u001b[0m \u001b[0mUc\u001b[0m\u001b[0;34m,\u001b[0m \u001b[0;34m'xr'\u001b[0m\u001b[0;34m,\u001b[0m \u001b[0mmarkersize\u001b[0m\u001b[0;34m=\u001b[0m\u001b[0;36m6\u001b[0m \u001b[0;34m,\u001b[0m \u001b[0mlabel\u001b[0m \u001b[0;34m=\u001b[0m \u001b[0;34m'Messdaten'\u001b[0m\u001b[0;34m,\u001b[0m \u001b[0malpha\u001b[0m\u001b[0;34m=\u001b[0m\u001b[0;36m0.5\u001b[0m\u001b[0;34m)\u001b[0m\u001b[0;34m\u001b[0m\u001b[0;34m\u001b[0m\u001b[0m\n\u001b[0m\u001b[1;32m      2\u001b[0m \u001b[0mxx\u001b[0m \u001b[0;34m=\u001b[0m \u001b[0mnp\u001b[0m\u001b[0;34m.\u001b[0m\u001b[0mlinspace\u001b[0m\u001b[0;34m(\u001b[0m\u001b[0;36m100\u001b[0m\u001b[0;34m,\u001b[0m \u001b[0;36m150000\u001b[0m\u001b[0;34m,\u001b[0m \u001b[0;36m10\u001b[0m\u001b[0;34m**\u001b[0m\u001b[0;36m4\u001b[0m\u001b[0;34m)\u001b[0m\u001b[0;34m\u001b[0m\u001b[0;34m\u001b[0m\u001b[0m\n\u001b[1;32m      3\u001b[0m \u001b[0mplt\u001b[0m\u001b[0;34m.\u001b[0m\u001b[0mplot\u001b[0m\u001b[0;34m(\u001b[0m\u001b[0mxx\u001b[0m\u001b[0;34m,\u001b[0m \u001b[0mg\u001b[0m\u001b[0;34m(\u001b[0m\u001b[0mxx\u001b[0m\u001b[0;34m,\u001b[0m \u001b[0ma\u001b[0m\u001b[0;34m)\u001b[0m\u001b[0;34m,\u001b[0m \u001b[0;34m'-b'\u001b[0m\u001b[0;34m,\u001b[0m \u001b[0mlinewidth\u001b[0m \u001b[0;34m=\u001b[0m \u001b[0;36m1\u001b[0m\u001b[0;34m,\u001b[0m \u001b[0mlabel\u001b[0m \u001b[0;34m=\u001b[0m \u001b[0;34m'Ausgleichsfunktion'\u001b[0m\u001b[0;34m)\u001b[0m\u001b[0;34m\u001b[0m\u001b[0;34m\u001b[0m\u001b[0m\n\u001b[1;32m      4\u001b[0m \u001b[0;34m\u001b[0m\u001b[0m\n\u001b[1;32m      5\u001b[0m \u001b[0mplt\u001b[0m\u001b[0;34m.\u001b[0m\u001b[0mxlabel\u001b[0m\u001b[0;34m(\u001b[0m\u001b[0;34mr'$f \\, / \\, \\mathrm{Hz}$'\u001b[0m\u001b[0;34m)\u001b[0m\u001b[0;34m\u001b[0m\u001b[0;34m\u001b[0m\u001b[0m\n",
      "\u001b[0;31mNameError\u001b[0m: name 'f' is not defined"
     ]
    }
   ],
   "source": [
    "\n",
    "plt.plot(f, Uc, 'xr', markersize=6 , label = 'Messdaten', alpha=0.5)\n",
    "xx = np.linspace(100, 150000, 10**4)\n",
    "plt.plot(xx, g(xx, a), '-b', linewidth = 1, label = 'Ausgleichsfunktion')\n",
    "\n",
    "plt.xlabel(r'$f \\, / \\, \\mathrm{Hz}$')\n",
    "plt.ylabel(r'$A(\\omega) \\, / \\, U_0$')\n",
    "plt.xscale('log')                       # axis scale \n",
    "plt.legend(loc=\"best\")                  # legend position\n",
    "plt.grid(True)                          # grid style\n",
    "plt.xlim(200, 150000)                   # limitation of visible scale in plot"
   ]
  }
 ],
 "metadata": {
  "kernelspec": {
   "display_name": "base",
   "language": "python",
   "name": "python3"
  },
  "language_info": {
   "codemirror_mode": {
    "name": "ipython",
    "version": 3
   },
   "file_extension": ".py",
   "mimetype": "text/x-python",
   "name": "python",
   "nbconvert_exporter": "python",
   "pygments_lexer": "ipython3",
   "version": "3.8.8"
  },
  "orig_nbformat": 4
 },
 "nbformat": 4,
 "nbformat_minor": 2
}
