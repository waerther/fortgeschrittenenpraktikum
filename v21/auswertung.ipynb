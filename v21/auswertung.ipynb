{
 "cells": [
  {
   "cell_type": "code",
   "execution_count": 2,
   "metadata": {},
   "outputs": [],
   "source": [
    "import matplotlib.pyplot as plt\n",
    "import matplotlib as mpl\n",
    "import numpy as np\n",
    "from numpy import sqrt\n",
    "import pandas as pd\n",
    "import scipy.constants as const\n",
    "from scipy.optimize import curve_fit                        # Funktionsfit:     popt, pcov = curve_fit(func, xdata, ydata) \n",
    "from uncertainties import ufloat                            # Fehler:           fehlerwert =  ulfaot(x, err)\n",
    "from uncertainties import unumpy as unp \n",
    "from uncertainties.unumpy import uarray                     # Array von Fehler: fehlerarray =  uarray(array, errarray)\n",
    "from uncertainties.unumpy import (nominal_values as noms,   # Wert:             noms(fehlerwert) = x\n",
    "                                  std_devs as stds)         # Abweichung:       stds(fehlerarray) = errarray"
   ]
  },
  {
   "attachments": {},
   "cell_type": "markdown",
   "metadata": {},
   "source": [
    "Tabelle erstellen:"
   ]
  },
  {
   "cell_type": "code",
   "execution_count": 12,
   "metadata": {},
   "outputs": [
    {
     "name": "stdout",
     "output_type": "stream",
     "text": [
      "\\begin{tabular}{c c c}\n",
      "\\toprule\n",
      " f/kHz &  I\\_1/mA &  I\\_1H/mA \\\\\n",
      "\\midrule\n",
      "   100 &     660 &        0 \\\\\n",
      "   200 &     652 &       16 \\\\\n",
      "   300 &     486 &       44 \\\\\n",
      "   400 &     409 &       66 \\\\\n",
      "   500 &     375 &       84 \\\\\n",
      "   600 &     224 &      112 \\\\\n",
      "   700 &     164 &      132 \\\\\n",
      "   800 &     295 &      140 \\\\\n",
      "   900 &     269 &      158 \\\\\n",
      "  1000 &     590 &      158 \\\\\n",
      "\\bottomrule\n",
      "\\end{tabular}\n",
      "\n",
      "\\begin{tabular}{c c c}\n",
      "\\toprule\n",
      " f/kHz &  I\\_2/mA &  I\\_2H/mA \\\\\n",
      "\\midrule\n",
      "   100 &     764 &        0 \\\\\n",
      "   200 &     888 &       16 \\\\\n",
      "   300 &     842 &       44 \\\\\n",
      "   400 &     883 &       66 \\\\\n",
      "   500 &     967 &       84 \\\\\n",
      "   600 &     938 &      112 \\\\\n",
      "   700 &     993 &      132 \\\\\n",
      "   800 &     629 &      184 \\\\\n",
      "   900 &     357 &      226 \\\\\n",
      "  1000 &     586 &      236 \\\\\n",
      "\\bottomrule\n",
      "\\end{tabular}\n",
      "\n"
     ]
    }
   ],
   "source": [
    "md = pd.read_csv('tables/md.csv')\n",
    "md85 = md.iloc[:, [0,1,2]]\n",
    "md87 = md.iloc[:, [0,3,4]]\n",
    "print(md85.to_latex(index = False, column_format= \"c c c\", decimal=',')) \n",
    "print(md87.to_latex(index = False, column_format= \"c c c\", decimal=',')) "
   ]
  },
  {
   "attachments": {},
   "cell_type": "markdown",
   "metadata": {},
   "source": [
    "Daten auswerten:"
   ]
  },
  {
   "cell_type": "code",
   "execution_count": null,
   "metadata": {},
   "outputs": [],
   "source": [
    "np.savetxt('tables/a.txt', md.values, header='f/Hz U/V', fmt='%.3f')\n",
    "f, U = np.genfromtxt('tables/a.txt', unpack=True, skip_header=1)\n",
    "\n",
    "# Ausgleichsfunktion\n",
    "def g(f, T):\n",
    "    w = 2 * np.pi * f\n",
    "    return 1 / (np.sqrt(1 + w**2 * T**2))\n",
    "\n",
    "para, pcov = curve_fit(g, f, U)\n",
    "pcov = np.sqrt(np.diag(pcov))\n",
    "a = para\n",
    "fa = pcov "
   ]
  },
  {
   "attachments": {},
   "cell_type": "markdown",
   "metadata": {},
   "source": [
    "Fehler berechnen:"
   ]
  },
  {
   "cell_type": "code",
   "execution_count": null,
   "metadata": {},
   "outputs": [],
   "source": [
    "ua = ufloat(a, fa) \n",
    "print('T = (%.3f ± %.3f)' % (noms(ua), stds(ua)))"
   ]
  },
  {
   "attachments": {},
   "cell_type": "markdown",
   "metadata": {},
   "source": [
    "Plot erstellen:"
   ]
  },
  {
   "cell_type": "code",
   "execution_count": null,
   "metadata": {},
   "outputs": [],
   "source": [
    "\n",
    "plt.plot(f, Uc, 'xr', markersize=6 , label = 'Messdaten', alpha=0.5)\n",
    "xx = np.linspace(100, 150000, 10**4)\n",
    "plt.plot(xx, g(xx, a), '-b', linewidth = 1, label = 'Ausgleichsfunktion')\n",
    "\n",
    "plt.xlabel(r'$f \\, / \\, \\mathrm{Hz}$')\n",
    "plt.ylabel(r'$A(\\omega) \\, / \\, U_0$')\n",
    "plt.xscale('log')                       # axis scale \n",
    "plt.legend(loc=\"best\")                  # legend position\n",
    "plt.grid(True)                          # grid style\n",
    "plt.xlim(200, 150000)                   # limitation of visible scale in plot"
   ]
  }
 ],
 "metadata": {
  "kernelspec": {
   "display_name": "base",
   "language": "python",
   "name": "python3"
  },
  "language_info": {
   "codemirror_mode": {
    "name": "ipython",
    "version": 3
   },
   "file_extension": ".py",
   "mimetype": "text/x-python",
   "name": "python",
   "nbconvert_exporter": "python",
   "pygments_lexer": "ipython3",
   "version": "3.8.8"
  },
  "orig_nbformat": 4
 },
 "nbformat": 4,
 "nbformat_minor": 2
}
