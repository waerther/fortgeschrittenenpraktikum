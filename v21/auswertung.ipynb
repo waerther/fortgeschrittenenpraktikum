{
 "cells": [
  {
   "cell_type": "code",
   "execution_count": 2,
   "metadata": {},
   "outputs": [],
   "source": [
    "import matplotlib.pyplot as plt\n",
    "import matplotlib as mpl\n",
    "import numpy as np\n",
    "from numpy import sqrt\n",
    "import pandas as pd\n",
    "import scipy.constants as const\n",
    "from scipy.optimize import curve_fit                        # Funktionsfit:     popt, pcov = curve_fit(func, xdata, ydata) \n",
    "from uncertainties import ufloat                            # Fehler:           fehlerwert =  ulfaot(x, err)\n",
    "from uncertainties import unumpy as unp \n",
    "from uncertainties.unumpy import uarray                     # Array von Fehler: fehlerarray =  uarray(array, errarray)\n",
    "from uncertainties.unumpy import (nominal_values as noms,   # Wert:             noms(fehlerwert) = x\n",
    "                                  std_devs as stds)         # Abweichung:       stds(fehlerarray) = errarray"
   ]
  },
  {
   "attachments": {},
   "cell_type": "markdown",
   "metadata": {},
   "source": [
    "Tabelle erstellen:"
   ]
  },
  {
   "cell_type": "code",
   "execution_count": 3,
   "metadata": {},
   "outputs": [
    {
     "name": "stdout",
     "output_type": "stream",
     "text": [
      "\\begin{tabular}{c c c c c}\n",
      "\\toprule\n",
      " f/kHz &  I\\_1/mA &  I\\_1H/mA &  I\\_2/mA &  I\\_2H/mA \\\\\n",
      "\\midrule\n",
      "   100 &     660 &        0 &     764 &        0 \\\\\n",
      "   200 &     652 &       16 &     888 &       16 \\\\\n",
      "   300 &     486 &       44 &     842 &       44 \\\\\n",
      "   400 &     409 &       66 &     883 &       66 \\\\\n",
      "   500 &     375 &       84 &     967 &       84 \\\\\n",
      "   600 &     224 &      112 &     938 &      112 \\\\\n",
      "   700 &     164 &      132 &     993 &      132 \\\\\n",
      "   800 &     295 &      140 &     629 &      184 \\\\\n",
      "   900 &     269 &      158 &     357 &      226 \\\\\n",
      "  1000 &     590 &      158 &     586 &      236 \\\\\n",
      "\\bottomrule\n",
      "\\end{tabular}\n",
      "\n"
     ]
    }
   ],
   "source": [
    "md = pd.read_csv('tables/md.csv')\n",
    "md85 = md.iloc[:, [0,1,2]]\n",
    "md87 = md.iloc[:, [0,3,4]]\n",
    "\n",
    "\n",
    "# print(md85.to_latex(index = False, column_format= \"c c c\", decimal=',')) \n",
    "# print(md87.to_latex(index = False, column_format= \"c c c\", decimal=',')) \n",
    "\n",
    "# df = {'f/kHz': f, 'I_1/mA': I_1, 'I_1h/mA': I_1h, 'I_2/mA': I_2,'I_2h/mA': I_2h} \n",
    "# df = pd.DataFrame(data = df)\n",
    "\n",
    "print(md.to_latex(index = False, column_format= \"c c c c c\", decimal=','))"
   ]
  },
  {
   "attachments": {},
   "cell_type": "markdown",
   "metadata": {},
   "source": [
    "Magnetische Flussdichten berechnen:"
   ]
  },
  {
   "cell_type": "code",
   "execution_count": 4,
   "metadata": {},
   "outputs": [
    {
     "name": "stdout",
     "output_type": "stream",
     "text": [
      "\\begin{tabular}{c c c c c c c}\n",
      "\\toprule\n",
      " f/kHz &  I\\_1/mA &  I\\_1h/mA &  B1/mikroT &  I\\_2/mA &  I\\_2h/mA &  B2/mikroT \\\\\n",
      "\\midrule\n",
      " 100,0 &   660,0 &      0,0 &      39,83 &   764,0 &      0,0 &      46,11 \\\\\n",
      " 200,0 &   652,0 &     16,0 &      53,38 &   888,0 &     16,0 &      67,62 \\\\\n",
      " 300,0 &   486,0 &     44,0 &      67,92 &   842,0 &     44,0 &      89,40 \\\\\n",
      " 400,0 &   409,0 &     66,0 &      82,56 &   883,0 &     66,0 &     111,17 \\\\\n",
      " 500,0 &   375,0 &     84,0 &      96,30 &   967,0 &     84,0 &     132,02 \\\\\n",
      " 600,0 &   224,0 &    112,0 &     111,74 &   938,0 &    112,0 &     154,83 \\\\\n",
      " 700,0 &   164,0 &    132,0 &     125,66 &   993,0 &    132,0 &     175,68 \\\\\n",
      " 800,0 &   295,0 &    140,0 &     140,58 &   629,0 &    184,0 &     199,32 \\\\\n",
      " 900,0 &   269,0 &    158,0 &     154,79 &   357,0 &    226,0 &     219,74 \\\\\n",
      "1000,0 &   590,0 &    158,0 &     174,17 &   586,0 &    236,0 &     242,33 \\\\\n",
      "\\bottomrule\n",
      "\\end{tabular}\n",
      "\n"
     ]
    }
   ],
   "source": [
    "np.savetxt('md.txt', md.values, fmt='%.2f')\n",
    "f, I_1, I_1h, I_2, I_2h = np.genfromtxt('md.txt', unpack=True, skip_header=0)\n",
    "\n",
    "# Helmholtz\n",
    "def B(I, N, A):\n",
    "    mu_0 = const.mu_0\n",
    "    return mu_0 * 8 * I * N / (np.sqrt(125) * A)\n",
    "\n",
    "A_S = 0.1639\n",
    "A_H = 0.1579\n",
    "N_S = 11\n",
    "N_H = 154\n",
    "\n",
    "B1 = B(I_1, N_S, A_S)\n",
    "B1h = B(I_1h, N_H, A_H)\n",
    "B2 = B(I_2, N_S, A_S)\n",
    "B2h = B(I_2h, N_H, A_H)\n",
    "\n",
    "B1 += B1h\n",
    "B2 += B2h   # 1e-3 * Tesla\n",
    "\n",
    "df = {'f/kHz': f, 'I_1/mA': I_1, 'I_1h/mA': I_1h, 'B1/mikroT': np.round(B1*1e3, 2), 'I_2/mA': I_2,'I_2h/mA': I_2h, 'B2/mikroT': np.round(B2*1e3, 2)} \n",
    "df = pd.DataFrame(data = df)\n",
    "\n",
    "print(df.to_latex(index = False, column_format= \"c c c c c c c\", decimal=','))"
   ]
  },
  {
   "attachments": {},
   "cell_type": "markdown",
   "metadata": {},
   "source": [
    "lineare Augleichsrechnung:"
   ]
  },
  {
   "cell_type": "code",
   "execution_count": 5,
   "metadata": {},
   "outputs": [
    {
     "name": "stdout",
     "output_type": "stream",
     "text": [
      "a85 = (0.000147 ± 0.000002) T*10^-3 /Hz^-1\n",
      "b85 = (0.023792 ± 0.001015) T*10^-3\n",
      "a87 = (0.000218 ± 0.000001) T*10^-3 /Hz^-1\n",
      "b87 = (0.023928 ± 0.000418) T*10^-3\n"
     ]
    }
   ],
   "source": [
    "# Ausgleichsfunktion\n",
    "def g(x, a, b):\n",
    "    return a * x + b\n",
    "\n",
    "para, pcov = curve_fit(g, f, B1)    # 1e-9 Tesla\n",
    "pcov = np.sqrt(np.diag(pcov))\n",
    "a1, b1 = para\n",
    "fa1, fb1 = pcov \n",
    "\n",
    "ua1 = ufloat(a1, fa1) \n",
    "ub1 = ufloat(b1, fb1) \n",
    "\n",
    "print('a85 = (%f ± %f)' % (noms(ua1), stds(ua1)), 'T*10^-3 /Hz^-1')\n",
    "print('b85 = (%f ± %f)' % (noms(ub1), stds(ub1)), 'T*10^-3')\n",
    "\n",
    "para, pcov = curve_fit(g, f, B2)    # 1e-9 Tesla\n",
    "pcov = np.sqrt(np.diag(pcov))\n",
    "a2, b2 = para\n",
    "fa2, fb2 = pcov \n",
    "\n",
    "ua2 = ufloat(a2, fa2) \n",
    "ub2 = ufloat(b2, fb2) \n",
    "\n",
    "print('a87 = (%f ± %f)' % (noms(ua2), stds(ua2)), 'T*10^-3 /Hz^-1')\n",
    "print('b87 = (%f ± %f)' % (noms(ub2), stds(ub2)), 'T*10^-3')"
   ]
  },
  {
   "attachments": {},
   "cell_type": "markdown",
   "metadata": {},
   "source": [
    "Plot erstellen:"
   ]
  },
  {
   "cell_type": "code",
   "execution_count": 10,
   "metadata": {},
   "outputs": [
    {
     "name": "stdout",
     "output_type": "stream",
     "text": [
      "0.0238+/-0.0010\n",
      "0.0239+/-0.0004\n",
      "mittlere Horizontalkomponente: 0.0239+/-0.0005 mT\n"
     ]
    },
    {
     "data": {
      "image/png": "[encoded data removed]",
      "text/plain": [
       "<Figure size 432x288 with 1 Axes>"
      ]
     },
     "metadata": {
      "needs_background": "light"
     },
     "output_type": "display_data"
    }
   ],
   "source": [
    "# plt.figure(figsize=(9, 6)) \n",
    "\n",
    "plt.plot(f, B1, 'xr', markersize=6 , label = 'Messdaten Rb85', alpha=1)\n",
    "plt.plot(f, B2, 'xb', markersize=6 , label = 'Messdaten Rb87', alpha=1)\n",
    "\n",
    "xx = np.linspace(-50, 1050, 10**4)\n",
    "\n",
    "plt.plot(xx, g(xx, a1, b1), '-r', linewidth = 1, label = 'Regression Rb85', alpha = 0.5)\n",
    "plt.plot(xx, g(xx, a2, b2), '-b', linewidth = 1, label = 'Regression Rb87', alpha = 0.5)\n",
    "\n",
    "plt.xlabel(r'$f \\, / \\, \\mathrm{kHz}$')\n",
    "plt.ylabel(r'$B \\, / \\, \\mathrm{mT}$')\n",
    "plt.legend(loc=\"best\")                  # legend position\n",
    "plt.grid(True)                          # grid style\n",
    "plt.xlim(-50, 1050)                   # limitation of visible scale in plot\n",
    "\n",
    "c1 = g(0, ua1, ub1); print(c1)\n",
    "c2 = g(0, ua2, ub2); print(c2)\n",
    "\n",
    "c = np.mean([c1, c2]); print('mittlere Horizontalkomponente:', c, 'mT')\n"
   ]
  },
  {
   "attachments": {},
   "cell_type": "markdown",
   "metadata": {},
   "source": [
    "Landé-Faktoren:"
   ]
  },
  {
   "cell_type": "code",
   "execution_count": 11,
   "metadata": {},
   "outputs": [],
   "source": [
    "def g_F(a):\n",
    "    h = const.h\n",
    "    mu_B, _, _ = const.physical_constants['Bohr magneton in Hz/T']\n",
    "    return  "
   ]
  }
 ],
 "metadata": {
  "kernelspec": {
   "display_name": "base",
   "language": "python",
   "name": "python3"
  },
  "language_info": {
   "codemirror_mode": {
    "name": "ipython",
    "version": 3
   },
   "file_extension": ".py",
   "mimetype": "text/x-python",
   "name": "python",
   "nbconvert_exporter": "python",
   "pygments_lexer": "ipython3",
   "version": "3.8.8"
  },
  "orig_nbformat": 4
 },
 "nbformat": 4,
 "nbformat_minor": 2
}
