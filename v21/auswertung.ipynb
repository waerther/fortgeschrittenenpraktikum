{
 "cells": [
  {
   "cell_type": "code",
   "execution_count": 1,
   "metadata": {},
   "outputs": [],
   "source": [
    "import matplotlib.pyplot as plt\n",
    "import matplotlib as mpl\n",
    "import numpy as np\n",
    "from numpy import sqrt\n",
    "import pandas as pd\n",
    "import scipy.constants as const\n",
    "from scipy.optimize import curve_fit                        # Funktionsfit:     popt, pcov = curve_fit(func, xdata, ydata) \n",
    "from uncertainties import ufloat                            # Fehler:           fehlerwert =  ulfaot(x, err)\n",
    "from uncertainties import unumpy as unp \n",
    "from uncertainties.unumpy import uarray                     # Array von Fehler: fehlerarray =  uarray(array, errarray)\n",
    "from uncertainties.unumpy import (nominal_values as noms,   # Wert:             noms(fehlerwert) = x\n",
    "                                  std_devs as stds)         # Abweichung:       stds(fehlerarray) = errarray"
   ]
  },
  {
   "attachments": {},
   "cell_type": "markdown",
   "metadata": {},
   "source": [
    "Tabelle erstellen:"
   ]
  },
  {
   "cell_type": "code",
   "execution_count": 11,
   "metadata": {},
   "outputs": [
    {
     "name": "stdout",
     "output_type": "stream",
     "text": [
      "\\begin{tabular}{c c c c c}\n",
      "\\toprule\n",
      " f/kHz &  I\\_1/mA &  I\\_1H/mA &  I\\_2/mA &  I\\_2H/mA \\\\\n",
      "\\midrule\n",
      "   100 &     660 &        0 &     764 &        0 \\\\\n",
      "   200 &     652 &       16 &     888 &       16 \\\\\n",
      "   300 &     486 &       44 &     842 &       44 \\\\\n",
      "   400 &     409 &       66 &     883 &       66 \\\\\n",
      "   500 &     375 &       84 &     967 &       84 \\\\\n",
      "   600 &     224 &      112 &     938 &      112 \\\\\n",
      "   700 &     164 &      132 &     993 &      132 \\\\\n",
      "   800 &     295 &      140 &     629 &      184 \\\\\n",
      "   900 &     269 &      158 &     357 &      226 \\\\\n",
      "  1000 &     590 &      158 &     586 &      236 \\\\\n",
      "\\bottomrule\n",
      "\\end{tabular}\n",
      "\n"
     ]
    }
   ],
   "source": [
    "md = pd.read_csv('tables/md.csv')\n",
    "md85 = md.iloc[:, [0,1,2]]\n",
    "md87 = md.iloc[:, [0,3,4]]\n",
    "\n",
    "\n",
    "# print(md85.to_latex(index = False, column_format= \"c c c\", decimal=',')) \n",
    "# print(md87.to_latex(index = False, column_format= \"c c c\", decimal=',')) \n",
    "\n",
    "# df = {'f/kHz': f, 'I_1/mA': I_1, 'I_1h/mA': I_1h, 'I_2/mA': I_2,'I_2h/mA': I_2h} \n",
    "# df = pd.DataFrame(data = df)\n",
    "\n",
    "print(md.to_latex(index = False, column_format= \"c c c c c\", decimal=','))"
   ]
  },
  {
   "attachments": {},
   "cell_type": "markdown",
   "metadata": {},
   "source": [
    "Magnetische Flussdichten berechnen:"
   ]
  },
  {
   "cell_type": "code",
   "execution_count": 22,
   "metadata": {},
   "outputs": [
    {
     "name": "stdout",
     "output_type": "stream",
     "text": [
      "\\begin{tabular}{c c c c c c c}\n",
      "\\toprule\n",
      " f/kHz &  I\\_1/mA &  I\\_1h/mA &  B1/mikroT &  I\\_2/mA &  I\\_2h/mA &  B2/mikroT \\\\\n",
      "\\midrule\n",
      " 100,0 &   660,0 &      0,0 &      39,83 &   764,0 &      0,0 &      46,11 \\\\\n",
      " 200,0 &   652,0 &     16,0 &      53,38 &   888,0 &     16,0 &      67,62 \\\\\n",
      " 300,0 &   486,0 &     44,0 &      67,92 &   842,0 &     44,0 &      89,40 \\\\\n",
      " 400,0 &   409,0 &     66,0 &      82,56 &   883,0 &     66,0 &     111,17 \\\\\n",
      " 500,0 &   375,0 &     84,0 &      96,30 &   967,0 &     84,0 &     132,02 \\\\\n",
      " 600,0 &   224,0 &    112,0 &     111,74 &   938,0 &    112,0 &     154,83 \\\\\n",
      " 700,0 &   164,0 &    132,0 &     125,66 &   993,0 &    132,0 &     175,68 \\\\\n",
      " 800,0 &   295,0 &    140,0 &     140,58 &   629,0 &    184,0 &     199,32 \\\\\n",
      " 900,0 &   269,0 &    158,0 &     154,79 &   357,0 &    226,0 &     219,74 \\\\\n",
      "1000,0 &   590,0 &    158,0 &     174,17 &   586,0 &    236,0 &     242,33 \\\\\n",
      "\\bottomrule\n",
      "\\end{tabular}\n",
      "\n"
     ]
    }
   ],
   "source": [
    "np.savetxt('md.txt', md.values, fmt='%.2f')\n",
    "f, I_1, I_1h, I_2, I_2h = np.genfromtxt('md.txt', unpack=True, skip_header=0)\n",
    "\n",
    "# Helmholtz\n",
    "def B(I, N, A):\n",
    "    mu_0 = const.mu_0\n",
    "    return mu_0 * 8 * I * N / (np.sqrt(125) * A)\n",
    "\n",
    "A_S = 0.1639\n",
    "A_H = 0.1579\n",
    "N_S = 11\n",
    "N_H = 154\n",
    "\n",
    "B1 = B(I_1, N_S, A_S)\n",
    "B1h = B(I_1h, N_H, A_H)\n",
    "B2 = B(I_2, N_S, A_S)\n",
    "B2h = B(I_2h, N_H, A_H)\n",
    "\n",
    "B1 += B1h\n",
    "B2 += B2h\n",
    "\n",
    "df = {'f/kHz': f, 'I_1/mA': I_1, 'I_1h/mA': I_1h, 'B1/mikroT': np.round(B1*1e3, 2), 'I_2/mA': I_2,'I_2h/mA': I_2h, 'B2/mikroT': np.round(B2*1e3, 2)} \n",
    "df = pd.DataFrame(data = df)\n",
    "\n",
    "print(df.to_latex(index = False, column_format= \"c c c c c c c\", decimal=','))"
   ]
  },
  {
   "attachments": {},
   "cell_type": "markdown",
   "metadata": {},
   "source": [
    "Fehler berechnen:"
   ]
  },
  {
   "cell_type": "code",
   "execution_count": null,
   "metadata": {},
   "outputs": [],
   "source": [
    "np.savetxt('tables/a.txt', md.values, header='f/Hz U/V', fmt='%.3f')\n",
    "f, U = np.genfromtxt('tables/a.txt', unpack=True, skip_header=1)\n",
    "\n",
    "# Ausgleichsfunktion\n",
    "def g(f, T):\n",
    "    w = 2 * np.pi * f\n",
    "    return 1 / (np.sqrt(1 + w**2 * T**2))\n",
    "\n",
    "para, pcov = curve_fit(g, f, U)\n",
    "pcov = np.sqrt(np.diag(pcov))\n",
    "a = para\n",
    "fa = pcov \n",
    "\n",
    "ua = ufloat(a, fa) \n",
    "print('T = (%.3f ± %.3f)' % (noms(ua), stds(ua)))"
   ]
  },
  {
   "attachments": {},
   "cell_type": "markdown",
   "metadata": {},
   "source": [
    "Plot erstellen:"
   ]
  },
  {
   "cell_type": "code",
   "execution_count": null,
   "metadata": {},
   "outputs": [],
   "source": [
    "\n",
    "plt.plot(f, Uc, 'xr', markersize=6 , label = 'Messdaten', alpha=0.5)\n",
    "xx = np.linspace(100, 150000, 10**4)\n",
    "plt.plot(xx, g(xx, a), '-b', linewidth = 1, label = 'Ausgleichsfunktion')\n",
    "\n",
    "plt.xlabel(r'$f \\, / \\, \\mathrm{Hz}$')\n",
    "plt.ylabel(r'$A(\\omega) \\, / \\, U_0$')\n",
    "plt.xscale('log')                       # axis scale \n",
    "plt.legend(loc=\"best\")                  # legend position\n",
    "plt.grid(True)                          # grid style\n",
    "plt.xlim(200, 150000)                   # limitation of visible scale in plot"
   ]
  }
 ],
 "metadata": {
  "kernelspec": {
   "display_name": "base",
   "language": "python",
   "name": "python3"
  },
  "language_info": {
   "codemirror_mode": {
    "name": "ipython",
    "version": 3
   },
   "file_extension": ".py",
   "mimetype": "text/x-python",
   "name": "python",
   "nbconvert_exporter": "python",
   "pygments_lexer": "ipython3",
   "version": "3.8.8"
  },
  "orig_nbformat": 4
 },
 "nbformat": 4,
 "nbformat_minor": 2
}
