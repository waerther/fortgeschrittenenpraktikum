{
 "cells": [
  {
   "attachments": {},
   "cell_type": "markdown",
   "metadata": {},
   "source": [
    "1. Zur welchen Klasse der Materialien zählt das Rubidium? Welchen Wert haben\n",
    "die Quantenzahlen: Bahndrehimpuls (L), Spin (S), Gesamtdrehimpuls der\n",
    "Elektronenschale (J), und Kernspin (I) eines 85Rb-Atoms im Grundzustand?\n",
    "Welche Werte ergeben sich für Gesamtdrehimpuls des Atoms (Quantenzahl F)\n",
    "im Grund- und in dem ersten angeregten Zustand (Kapitel 2 in Ref. [1])?\n",
    "\n",
    "\n",
    "- Alkali Atom (Ein freies Valenzelektron)\n",
    "- 1s² 2s² 2p⁶ 3s² 3p⁶ 4s² 3d¹⁰ 4p⁶ 5s\n",
    "- L=0\n",
    "- S = 1/2\n",
    "- J = L + S = 1/2\n",
    "- I  = 5/2\n",
    "- F = I + J = 3"
   ]
  },
  {
   "attachments": {},
   "cell_type": "markdown",
   "metadata": {},
   "source": [
    "2. Welche Aufspaltungen entstehen durch das äußere Magnetfeld bei den 2S1/2\n",
    "und 2P1/2 Niveaus? Wie sieht ein Niveauschema aus? Wovon hängt die\n",
    "Zeeman-Aufspaltung ( Δ EZ ) zwischen einzelnen Niveaus ab (Kapitel 2.5.7 in\n",
    "Ref. [1])?\n",
    "\n",
    "Für Rubidium gibt es zwei natürliche Isotope: Rubidium-85 und Rubidium-87. Die Zeeman-Aufspaltung für Rubidium hängt von dem Isotop ab, da sich der Kernspin unterscheidet.\n",
    "\n",
    "Für Rubidium-85 hat das 2S1/2-Niveau eine Zeeman-Aufspaltung erster Ordnung in zwei Unterniveaus: mS = +1/2 und mS = -1/2. Das 2P1/2-Niveau hat ebenfalls eine Zeeman-Aufspaltung erster Ordnung in zwei Unterniveaus: mJ = +1/2 und mJ = -1/2.\n",
    "\n",
    "Für Rubidium-87 hingegen hat das 2S1/2-Niveau ebenfalls eine Zeeman-Aufspaltung erster Ordnung in zwei Unterniveaus: mS = +1/2 und mS = -1/2. Das 2P1/2-Niveau hat jedoch eine Zeeman-Aufspaltung zweiter Ordnung und teilt sich in insgesamt vier Unterniveaus auf: mJ = +1/2, mJ = -1/2, mJ = +3/2 und mJ = -3/2.\n",
    "\n",
    "Die genauen Landé-Faktoren und die Beziehung zwischen der Aufspaltung und der magnetischen Flussdichte können durch die Quantenzahlen und Eigenschaften der Elektronen in Rubidium berechnet werden. Diese Werte können in speziellen Tabellen oder in entsprechenden wissenschaftlichen Veröffentlichungen gefunden werden, die sich mit dem Zeeman-Effekt von Rubidium befassen."
   ]
  },
  {
   "attachments": {},
   "cell_type": "markdown",
   "metadata": {},
   "source": [
    "3. Welche Auswahlregeln gibt es für einen elektrischen Dipolübergang zwischen\n",
    "den beiden 2S1/2 und 2P1/2 Niveaus? Was bewirkt die Anregung dieser Zustände\n",
    "mit einem zirkular polarisierten Licht bei einem angelegten Magnetfeld?\n",
    "Woran liegt der Unterschied zwischen stimulierten und spontanen Emission?\n",
    "Wie hängt die spontane Emission von der Frequenz ab (Kapitel 1.7.3 in Ref.\n",
    "[1])?\n",
    "\n",
    "Der Gesamtdrehimpuls der Elektronenschale (J) muss sich um ±1/2 ändern. Dies bedeutet, dass ΔJ = ±1/2.\n",
    "Der Spin des Elektrons (S) muss sich um 0 ändern, da es sich bei 2S1/2 und 2P1/2 um denselben Spin-Zustand handelt. Dies bedeutet, dass ΔS = 0.\n",
    "Der Bahndrehimpuls (L) muss sich um ±1 ändern, da sich die Niveaus in der Quantenzahl des Bahndrehimpulses unterscheiden. Dies bedeutet, dass ΔL = ±1.\n",
    "\n",
    "Der Unterschied zwischen stimulierter und spontaner Emission liegt in der Ursache des Emissionsprozesses. Bei der spontanen Emission wird ein Photon aufgrund einer natürlichen Zerfallsrate (Lebensdauer des angeregten Zustands) aus einem höheren Energieniveau in ein niedrigeres Energieniveau emittiert, ohne dass ein externes Photon den Übergang auslöst.\n",
    "\n",
    "Bei der stimulierten Emission hingegen wird ein Photon eingestrahlt, das die gleiche Energie und Phase wie das angeregte Atom aufweist. Dieses eingestrahlte Photon löst den Übergang aus und stimuliert das Atom, ein weiteres Photon mit derselben Energie, Phase und Ausbreitungsrichtung zu emittieren. Das resultierende emittierte Photon hat die gleichen Eigenschaften wie das eingestrahlte Photon und ist daher mit ihm kohärent.\n",
    "\n",
    "Die spontane Emission hängt von der Frequenz ab, da die Wahrscheinlichkeit der spontanen Emission mit der Lebensdauer des angeregten Zustands zusammenhängt. Die Lebensdauer wiederum ist invers proportional zur Frequenz des emittierten Photons. Daher ist die spontane Emission mit höheren Frequenzen (energetisch höheren Übergängen) wahrscheinlicher. Dies wird als spontane Emissionsrate bezeichnet, die von der spezifischen Übergangsfrequenz abhängt."
   ]
  },
  {
   "attachments": {},
   "cell_type": "markdown",
   "metadata": {},
   "source": [
    "4. Welcher Zustand stellt sich bei der kontinuierlichen Beleuchtung mit zirkular\n",
    "polarisierten Licht ein? Was bedeutet Optisches Pumpen? Wie sieht dabei der\n",
    "zeitliche Verlauf der Intensität des transmittierten Lichtes [2,3]? \n",
    "\n",
    "Im Fall des Rubidiumatoms kann durch optisches Pumpen das Besetzungsinversionsprinzip erreicht werden. Das bedeutet, dass eine größere Anzahl von Atomen im angeregten Zustand ist als im Grundzustand. Dies kann durch die Verwendung von zirkular polarisiertem Licht erreicht werden, das selektiv Atome in einem bestimmten Spin- und Magnetisierungszustand anregt."
   ]
  },
  {
   "attachments": {},
   "cell_type": "markdown",
   "metadata": {},
   "source": [
    "5. Welche Auswahlregeln gibt es für magnetische Dipolübergänge? Was passiert\n",
    "in dem optisch gepumpten System, wenn durch die RF-Feld-Frequenz\n",
    "(Hochfrequenz) f gegebene Energie ( ERF=hf ) der Zeeman Energie ( Δ EZ\n",
    ")\n",
    "entspricht? Was geschieht dabei mit dem Absorptionsverhalten? Überlegen\n",
    "Sie wie eine Absorptionspeak-vs.-Magnetfeld Abhängigkeit aussehen soll. Wie\n",
    "ermittelt man dadurch den Lande-Faktor gF? Was passiert mit der\n",
    "transmittierten Lichtintensität bei null Magnetfeld?\n",
    "\n",
    "\n",
    "Für magnetische Dipolübergänge gelten ähnliche Auswahlregeln wie für elektrische Dipolübergänge. Die Auswahlregeln für magnetische Dipolübergänge sind wie folgt:\n",
    "\n",
    "ΔmJ = 0, ±1: Der magnetische Quantenzahlunterschied zwischen den beiden beteiligten Zuständen (mJ) kann 0 oder ±1 sein.\n",
    "ΔMJ = 0: Der magnetische Quantenzahlunterschied des Gesamtdrehimpulses der Elektronenschale (MJ) muss 0 sein.\n",
    "Wenn die Energie des RF-Felds (Hochfrequenz) der Zeeman-Energie (ΔEZ) entspricht, können magnetische Dipolübergänge angeregt werden. In einem optisch gepumpten System, in dem die Atome bereits in einem Besetzungsinversionszustand sind, kann das RF-Feld dazu führen, dass Atome zwischen verschiedenen Zeeman-Niveaus wechseln.\n",
    "\n",
    "Wenn die RF-Feld-Frequenz so eingestellt ist, dass sie der Zeeman-Energie entspricht, kommt es zu einer Resonanzabsorption. Das bedeutet, dass die Atome die Energie des RF-Felds absorbieren und auf ein höheres Energiezeeman-Niveau übergehen. Dies äußert sich in einem Absorptionspeak in Abhängigkeit vom Magnetfeld.\n",
    "\n",
    "Die Absorptionspeak-vs.-Magnetfeld-Abhängigkeit zeigt typischerweise ein charakteristisches Verhalten. Bei einem positiven Magnetfeld gibt es in der Regel zwei Absorptionspeaks, die als Zeeman-Aufspaltung bezeichnet werden. Diese entstehen durch den Übergang zwischen den verschiedenen Zeeman-Niveaus. Die Position und Form der Peaks hängen von den Landé-Faktoren (g-Faktoren) der beteiligten Zustände ab.\n",
    "\n",
    "Der Landé-Faktor gF kann durch die Lage der Absorptionspeaks im Magnetfeld ermittelt werden. Der Landé-Faktor ist proportional zum Steigungsverhältnis der Peaks in Abhängigkeit vom Magnetfeld. Durch Messungen und Auswertungen der Absorptionspeaks kann der Landé-Faktor gF bestimmt werden.\n",
    "\n",
    "Bei einem Null-Magnetfeld gibt es in der Regel keine Zeeman-Aufspaltung und daher keine Absorptionspeaks. Das transmittierte Licht zeigt eine maximale Intensität, da keine Übergänge zwischen verschiedenen Zeeman-Niveaus stattfinden. Die transmittierte Lichtintensität ist bei null Magnetfeld am höchsten.\n",
    "\n",
    "Es ist jedoch zu beachten, dass die genauen Details des Absorptionsverhaltens, der Peak-Form und der spezifischen Abhängigkeiten von den experimentellen Bedingungen, den beteiligten Zuständen und den Messparametern abhängen können. Eine detaillierte Untersuchung und Analyse erfordert eine genaue Betrachtung des Systems und der verwendeten Techniken."
   ]
  },
  {
   "attachments": {},
   "cell_type": "markdown",
   "metadata": {},
   "source": [
    "6. Was passiert wenn man die ERF gleich der Δ EZ wählt und dabei die RFFeld-Amplitude variiert? Welche Beziehung erwarten Sie dort zwischen der\n",
    "Frequenz der Rabi-Oszillationen und der Stärke des angelegten RF-Feldes\n",
    "[2,3]? \n",
    "\n",
    "Wenn die Energie des RF-Felds (ERF) gleich der Zeeman-Energie (ΔEZ) gewählt wird und die Amplitude des RF-Felds variiert wird, erwartet man Rabi-Oszillationen im System.\n",
    "\n",
    "Rabi-Oszillationen sind periodische Schwingungen, die auftreten, wenn ein System zwischen zwei Zuständen wechselt, die durch das RF-Feld gekoppelt sind. In diesem Fall werden die Atome zwischen den Zeeman-Niveaus hin- und herwechseln.\n",
    "\n",
    "Die Frequenz der Rabi-Oszillationen hängt von der Stärke des angelegten RF-Feldes ab. Es besteht eine lineare Beziehung zwischen der Frequenz der Rabi-Oszillationen und der Stärke des RF-Feldes. Mit zunehmender Amplitude des RF-Feldes steigt auch die Frequenz der Rabi-Oszillationen.\n",
    "\n",
    "Dieses Verhalten kann verstanden werden, wenn man die Wechselwirkung zwischen dem RF-Feld und den Zeeman-Niveaus betrachtet. Das RF-Feld wirkt als Anregung, die die Atome zwischen den Zeeman-Niveaus hin- und herschwingen lässt. Eine höhere Amplitude des RF-Feldes führt zu einer stärkeren Anregung, was zu einer höheren Frequenz der Rabi-Oszillationen führt.\n",
    "\n",
    "Daher erwartet man, dass bei Variation der Amplitude des RF-Feldes die Frequenz der Rabi-Oszillationen ebenfalls variiert und mit der Stärke des angelegten RF-Feldes zunimmt."
   ]
  }
 ],
 "metadata": {
  "language_info": {
   "name": "python"
  },
  "orig_nbformat": 4
 },
 "nbformat": 4,
 "nbformat_minor": 2
}
